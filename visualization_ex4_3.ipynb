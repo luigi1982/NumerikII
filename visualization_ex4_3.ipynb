{
 "cells": [
  {
   "cell_type": "code",
   "execution_count": 1,
   "id": "0e541232",
   "metadata": {},
   "outputs": [],
   "source": [
    "%matplotlib inline\n",
    "\n",
    "from matplotlib import pyplot as plt\n",
    "import numpy as np\n",
    "import ipywidgets as widgets\n",
    "\n",
    "from one_step_methods import *\n",
    "from functions import *"
   ]
  },
  {
   "cell_type": "code",
   "execution_count": 24,
   "id": "032c22b9",
   "metadata": {},
   "outputs": [
    {
     "data": {
      "application/vnd.jupyter.widget-view+json": {
       "model_id": "4df7289a796a4b35b6ebf8f5c478261d",
       "version_major": 2,
       "version_minor": 0
      },
      "text/plain": [
       "interactive(children=(IntSlider(value=10, description='N', max=20, min=1), IntSlider(value=1, description='a',…"
      ]
     },
     "metadata": {},
     "output_type": "display_data"
    }
   ],
   "source": [
    "@widgets.interact(N=(1, 20, 1), a=(1,5,1))\n",
    "def plot(N=10, a=1):\n",
    "    col_error='firebrick'\n",
    "    col_approx='seagreen'\n",
    "    col_func='tomato'\n",
    "    t0 = 0\n",
    "    y0 = 1\n",
    "    phi = heun\n",
    "    X,Y_heun = apply_method(heun, t0, N, a, y0, ex4_3f)\n",
    "    _,Y_euler = apply_method(modified_euler, t0, N, a, y0, ex4_3f)\n",
    "    Xx = np.linspace(0,a,100*a)\n",
    "    true_y = apply_func_to_list(ex4_3y, Xx)\n",
    "    fig, axs = plt.subplots(2, 2)\n",
    "    fig.set_figwidth(10)\n",
    "    axs[0,0].plot(Xx,true_y, color=col_func, label='true function')\n",
    "    axs[0,0].plot(X,Y_heun, label='heun approx', color=col_approx)\n",
    "    axs[0,0].set_xlim([0, a])\n",
    "    axs[0,0].set_ylim([0.5, 1.02])\n",
    "    axs[0,0].legend()\n",
    "    axs[0,1].plot(Xx,true_y, color=col_func, label='true function')\n",
    "    axs[0,1].plot(X,Y_euler, label='euler approx', color=col_approx)\n",
    "    axs[0,1].set_xlim([0, a])\n",
    "    axs[0,1].set_ylim([0.5, 1.02])\n",
    "    axs[0,1].legend()\n",
    "    \n",
    "    true_y = apply_func_to_list(ex4_3y, X)\n",
    "    fig.set_figwidth(10)\n",
    "    error_heun = np.abs(np.array(true_y) - np.array(Y_heun))\n",
    "    error_euler = np.abs(np.array(true_y) - np.array(Y_euler))\n",
    "    axs[1,0].plot(X,error_heun, label='error heun', color=col_error)\n",
    "    axs[1,0].legend()\n",
    "    axs[1,0].set_ylim([0, 0.01])\n",
    "    axs[1,1].plot(X,error_euler, label='error euler', color=col_error)\n",
    "    axs[1,1].legend()\n",
    "    axs[1,1].set_ylim([0, 0.01])"
   ]
  },
  {
   "cell_type": "code",
   "execution_count": null,
   "id": "c9178892",
   "metadata": {},
   "outputs": [],
   "source": []
  }
 ],
 "metadata": {
  "kernelspec": {
   "display_name": "Python 3 (ipykernel)",
   "language": "python",
   "name": "python3"
  },
  "language_info": {
   "codemirror_mode": {
    "name": "ipython",
    "version": 3
   },
   "file_extension": ".py",
   "mimetype": "text/x-python",
   "name": "python",
   "nbconvert_exporter": "python",
   "pygments_lexer": "ipython3",
   "version": "3.11.3"
  }
 },
 "nbformat": 4,
 "nbformat_minor": 5
}
